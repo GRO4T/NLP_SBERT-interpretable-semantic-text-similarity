{
 "cells": [
  {
   "cell_type": "code",
   "execution_count": 2,
   "metadata": {},
   "outputs": [],
   "source": [
    "!pip install -qqq torch pandas numpy"
   ]
  },
  {
   "cell_type": "code",
   "execution_count": 6,
   "metadata": {},
   "outputs": [],
   "source": [
    "# Standard libraries\n",
    "import os\n",
    "import csv\n",
    "\n",
    "# Standard data processing libraries\n",
    "import pandas as pd\n",
    "import numpy as np\n",
    "\n",
    "# ML libraries\n",
    "import torch\n",
    "from torch.utils.data import Dataset\n",
    "\n",
    "# Project code\n",
    "from lib.dataset import SBERTDataset\n"
   ]
  },
  {
   "cell_type": "code",
   "execution_count": 2,
   "metadata": {},
   "outputs": [],
   "source": [
    "PROJECT_DIR = \"./\" # @param {type: \"string\"}\n",
    "DATASET = \"headlines\" # @param {type: \"string\"}\n",
    "DATA_DIR = os.path.join(PROJECT_DIR, \"data/sem_eval_2016/\", DATASET)"
   ]
  },
  {
   "cell_type": "code",
   "execution_count": 3,
   "metadata": {},
   "outputs": [],
   "source": [
    "types_map = {\n",
    "    'EQUI': 7,\n",
    "    'OPPO': 6,\n",
    "    'SPE1': 5,\n",
    "    'SPE2': 4,\n",
    "    'SIMI': 3,\n",
    "    'REL': 2,\n",
    "    'ALIC': 1,\n",
    "    'NOALI': 0,\n",
    "}\n",
    "\n",
    "def types_to_int(types):\n",
    "    return list(map(lambda x: types_map[x], types))"
   ]
  },
  {
   "cell_type": "code",
   "execution_count": 7,
   "metadata": {},
   "outputs": [],
   "source": [
    "class SBERTDataset(Dataset):\n",
    "    def __init__(self, file_path: str):\n",
    "        self._data = pd.read_csv(\n",
    "            file_path, sep=\"\\t\", keep_default_na=False, quoting=csv.QUOTE_NONE\n",
    "        )\n",
    "        \n",
    "        self._x1 = self._data[\"x1\"].tolist()\n",
    "        self._x2 = self._data[\"x2\"].tolist()\n",
    "\n",
    "        self._types = self._get_encoded_types()\n",
    "        self._scores = torch.tensor(self._data[\"y_score\"]).float()\n",
    "\n",
    "    def _get_encoded_types(self):\n",
    "        types_as_int = types_to_int(self._data[\"y_type\"].tolist())\n",
    "        encoded_types = torch.nn.functional.one_hot(\n",
    "            torch.tensor(types_as_int),\n",
    "            num_classes=len(types_map)\n",
    "        ).float()\n",
    "        return encoded_types\n",
    "    \n",
    "    def __getitem__(self, index):\n",
    "        a, b = self._x1[index], self._x2[index]\n",
    "        x = torch.tensor([\n",
    "            [a, b]\n",
    "        ])\n",
    "        y = (self._types[index], self._scores[index])\n",
    "        return x, y\n",
    "    \n",
    "    def __len__(self):\n",
    "        return self._types.shape[0]\n"
   ]
  },
  {
   "cell_type": "code",
   "execution_count": null,
   "metadata": {},
   "outputs": [],
   "source": []
  }
 ],
 "metadata": {
  "kernelspec": {
   "display_name": "Python 3.10.6 ('.venv': venv)",
   "language": "python",
   "name": "python3"
  },
  "language_info": {
   "codemirror_mode": {
    "name": "ipython",
    "version": 3
   },
   "file_extension": ".py",
   "mimetype": "text/x-python",
   "name": "python",
   "nbconvert_exporter": "python",
   "pygments_lexer": "ipython3",
   "version": "3.10.6"
  },
  "orig_nbformat": 4,
  "vscode": {
   "interpreter": {
    "hash": "ddddd67d25b748c78a550d661803566ec92041f34219f81d19ad22bc923c0e9a"
   }
  }
 },
 "nbformat": 4,
 "nbformat_minor": 2
}
