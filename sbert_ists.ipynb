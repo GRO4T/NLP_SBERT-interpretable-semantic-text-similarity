{
 "cells": [
  {
   "cell_type": "code",
   "execution_count": 10,
   "metadata": {},
   "outputs": [],
   "source": [
    "!pip install -qqq torch pandas numpy pytorch_lightning"
   ]
  },
  {
   "cell_type": "code",
   "execution_count": 8,
   "metadata": {},
   "outputs": [],
   "source": [
    "# Standard libraries\n",
    "import os\n",
    "import csv\n",
    "\n",
    "# Standard data processing libraries\n",
    "import pandas as pd\n",
    "import numpy as np\n",
    "\n",
    "# ML libraries\n",
    "import torch\n",
    "from torch.utils.data import Dataset\n",
    "\n",
    "# Project code\n",
    "from lib.dataset import SBERTDataset\n"
   ]
  },
  {
   "cell_type": "code",
   "execution_count": 9,
   "metadata": {},
   "outputs": [],
   "source": [
    "PROJECT_DIR = \"./\" # @param {type: \"string\"}\n",
    "DATASET = \"headlines\" # @param {type: \"string\"}\n",
    "DATA_DIR = os.path.join(PROJECT_DIR, \"data/sem_eval_2016/\", DATASET)\n",
    "\n",
    "TRAIN_BATCH_SIZE = 16 # @param {type: \"slider\", min:1, max:128}\n",
    "BATCH_SIZE = 16 # @param {type: \"slider\", min:1, max:128}\n",
    "NUM_WORKERS = 2 # @param {type: \"slider\", min:1, max:16}\n",
    "\n",
    "EPOCHS = 10 # @param {type: \"slider\", min:1, max:128}\n",
    "ACCELERATOR = \"auto\" # @param [\"auto\", \"gpu\", \"tpu\", \"cpu\"]"
   ]
  },
  {
   "cell_type": "code",
   "execution_count": null,
   "metadata": {},
   "outputs": [],
   "source": []
  }
 ],
 "metadata": {
  "kernelspec": {
   "display_name": "Python 3.10.6 ('.venv': venv)",
   "language": "python",
   "name": "python3"
  },
  "language_info": {
   "codemirror_mode": {
    "name": "ipython",
    "version": 3
   },
   "file_extension": ".py",
   "mimetype": "text/x-python",
   "name": "python",
   "nbconvert_exporter": "python",
   "pygments_lexer": "ipython3",
   "version": "3.10.6"
  },
  "orig_nbformat": 4,
  "vscode": {
   "interpreter": {
    "hash": "ddddd67d25b748c78a550d661803566ec92041f34219f81d19ad22bc923c0e9a"
   }
  }
 },
 "nbformat": 4,
 "nbformat_minor": 2
}
