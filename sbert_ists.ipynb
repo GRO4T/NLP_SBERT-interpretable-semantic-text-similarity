{
 "cells": [
  {
   "cell_type": "code",
   "execution_count": 11,
   "metadata": {},
   "outputs": [],
   "source": [
    "!pip install -qqq torch pandas numpy pytorch_lightning sentence-transformers"
   ]
  },
  {
   "cell_type": "code",
   "execution_count": 16,
   "metadata": {},
   "outputs": [],
   "source": [
    "# Standard libraries\n",
    "import os\n",
    "import csv\n",
    "\n",
    "# Standard data processing libraries\n",
    "import pandas as pd\n",
    "import numpy as np\n",
    "\n",
    "# ML libraries\n",
    "import torch\n",
    "from torch.utils.data import Dataset\n",
    "from pytorch_lightning import Trainer\n",
    "\n",
    "# Project code\n",
    "from lib.dataset import SBERTDataset\n",
    "from lib.data_module import SBERTDataModule\n",
    "from lib.model import SBERT_iSTS_Model\n"
   ]
  },
  {
   "cell_type": "code",
   "execution_count": 18,
   "metadata": {},
   "outputs": [],
   "source": [
    "PROJECT_DIR = \"./\" # @param {type: \"string\"}\n",
    "DATASET = \"headlines\" # @param {type: \"string\"}\n",
    "DATA_DIR = os.path.join(PROJECT_DIR, \"data/sem_eval_2016/\", DATASET)\n",
    "\n",
    "TRAIN_BATCH_SIZE = 16 # @param {type: \"slider\", min:1, max:128}\n",
    "BATCH_SIZE = 16 # @param {type: \"slider\", min:1, max:128}\n",
    "NUM_WORKERS = 2 # @param {type: \"slider\", min:1, max:16}\n",
    "\n",
    "EPOCHS = 10 # @param {type: \"slider\", min:1, max:128}\n",
    "ACCELERATOR = \"auto\" # @param [\"auto\", \"gpu\", \"tpu\", \"cpu\"]"
   ]
  },
  {
   "cell_type": "code",
   "execution_count": 14,
   "metadata": {},
   "outputs": [
    {
     "name": "stderr",
     "output_type": "stream",
     "text": [
      "Downloading: 100%|██████████| 1.18k/1.18k [00:00<00:00, 839kB/s]\n",
      "Downloading: 100%|██████████| 190/190 [00:00<00:00, 239kB/s]\n",
      "Downloading: 100%|██████████| 10.6k/10.6k [00:00<00:00, 6.36MB/s]\n",
      "Downloading: 100%|██████████| 571/571 [00:00<00:00, 522kB/s]\n",
      "Downloading: 100%|██████████| 116/116 [00:00<00:00, 75.7kB/s]\n",
      "Downloading: 100%|██████████| 39.3k/39.3k [00:00<00:00, 290kB/s] \n",
      "Downloading: 100%|██████████| 438M/438M [00:19<00:00, 22.9MB/s] \n",
      "Downloading: 100%|██████████| 53.0/53.0 [00:00<00:00, 45.9kB/s]\n",
      "Downloading: 100%|██████████| 239/239 [00:00<00:00, 297kB/s]\n",
      "Downloading: 100%|██████████| 466k/466k [00:00<00:00, 704kB/s]  \n",
      "Downloading: 100%|██████████| 363/363 [00:00<00:00, 291kB/s]\n",
      "Downloading: 100%|██████████| 13.1k/13.1k [00:00<00:00, 7.16MB/s]\n",
      "Downloading: 100%|██████████| 232k/232k [00:00<00:00, 447kB/s]  \n",
      "Downloading: 100%|██████████| 349/349 [00:00<00:00, 252kB/s]\n"
     ]
    }
   ],
   "source": [
    "model = SBERT_iSTS_Model()"
   ]
  },
  {
   "cell_type": "code",
   "execution_count": 19,
   "metadata": {},
   "outputs": [],
   "source": [
    "data = SBERTDataModule(\n",
    "    f'{DATA_DIR}/train.tsv', \n",
    "    f'{DATA_DIR}/test.tsv', \n",
    "    batch_size=BATCH_SIZE, \n",
    "    train_batch_size=TRAIN_BATCH_SIZE,\n",
    "    num_workers=NUM_WORKERS\n",
    ")"
   ]
  },
  {
   "cell_type": "code",
   "execution_count": null,
   "metadata": {},
   "outputs": [],
   "source": [
    "trainer = Trainer(a)"
   ]
  }
 ],
 "metadata": {
  "kernelspec": {
   "display_name": "Python 3.10.6 ('.venv': venv)",
   "language": "python",
   "name": "python3"
  },
  "language_info": {
   "codemirror_mode": {
    "name": "ipython",
    "version": 3
   },
   "file_extension": ".py",
   "mimetype": "text/x-python",
   "name": "python",
   "nbconvert_exporter": "python",
   "pygments_lexer": "ipython3",
   "version": "3.10.6"
  },
  "orig_nbformat": 4,
  "vscode": {
   "interpreter": {
    "hash": "ddddd67d25b748c78a550d661803566ec92041f34219f81d19ad22bc923c0e9a"
   }
  }
 },
 "nbformat": 4,
 "nbformat_minor": 2
}
